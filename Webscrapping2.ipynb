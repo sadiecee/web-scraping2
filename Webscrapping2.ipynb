{
  "nbformat": 4,
  "nbformat_minor": 0,
  "metadata": {
    "colab": {
      "name": "Webscrapping2.ipynb",
      "provenance": [],
      "collapsed_sections": []
    },
    "kernelspec": {
      "name": "python3",
      "display_name": "Python 3"
    },
    "language_info": {
      "name": "python"
    }
  },
  "cells": [
    {
      "cell_type": "code",
      "metadata": {
        "colab": {
          "base_uri": "https://localhost:8080/"
        },
        "id": "nloWYZilnKGT",
        "outputId": "e95567d8-545e-49e4-e0e7-37ed2bbdbcd7"
      },
      "source": [
        "'''\n",
        "Sadie Murray \n",
        "Python 3 \n",
        "This code is a web scrapping code that uses takes a url for a book rating website and cycles through the first five pages to return the one \n",
        "star rated books. The inputs are the URL for the book rating website and the output is a list of one star books found on the first five pages. \n",
        "'''\n",
        "\n",
        "# importing libraries\n",
        "import requests\n",
        "import bs4\n",
        "\n",
        "#establishing base url \n",
        "base_url = \"http://books.toscrape.com/catalogue/page-{}.html\"\n",
        "\n",
        "# start by initiating an empty list that will hold our output.\n",
        "one_star_titles = []\n",
        "\n",
        "# Now iterate to get info from each page.\n",
        "# sets up the first for loop including an index that goes to to 6 in order to get page 5,\n",
        "for n in range (1,6):\n",
        "  scrape_url = base_url.format(n)\n",
        "  res = requests.get(scrape_url)\n",
        "  soup = bs4.BeautifulSoup(res.text,'lxml')\n",
        "  books = soup.select(\".product_pod\")\n",
        "  # within our loop, we'll create another loop to parse the books and select star rating one.\n",
        "  for book in books:\n",
        "    if len(book.select('.star-rating.One')) != 0: # if the list is not empty, then we do have a 5 star book. Could also use if 'star-rating Five' in str(book)\n",
        "      book_title = book.select('a')[1]['title']\n",
        "      one_star_titles.append(book_title)\n",
        "one_star_titles"
      ],
      "execution_count": 1,
      "outputs": [
        {
          "output_type": "execute_result",
          "data": {
            "text/plain": [
              "['Tipping the Velvet',\n",
              " 'Soumission',\n",
              " 'The Requiem Red',\n",
              " 'The Black Maria',\n",
              " 'Olio',\n",
              " 'Mesaerion: The Best Science Fiction Stories 1800-1849',\n",
              " 'In Her Wake',\n",
              " 'The Bear and the Piano',\n",
              " 'In a Dark, Dark Wood',\n",
              " 'When We Collided',\n",
              " 'Unbound: How Eight Technologies Made Us Human, Transformed Society, and Brought Our World to the Brink',\n",
              " 'Tsubasa: WoRLD CHRoNiCLE 2 (Tsubasa WoRLD CHRoNiCLE #2)',\n",
              " 'The Torch Is Passed: A Harding Family Story',\n",
              " 'The Secret of Dreadwillow Carse',\n",
              " 'The Pioneer Woman Cooks: Dinnertime: Comfort Classics, Freezer Food, 16-Minute Meals, and Other Delicious Ways to Solve Supper!',\n",
              " 'The Gutsy Girl: Escapades for Your Life of Epic Adventure',\n",
              " 'The Electric Pencil: Drawings from Inside State Hospital No. 3',\n",
              " 'The Age of Genius: The Seventeenth Century and the Birth of the Modern Mind',\n",
              " 'Pop Gun War, Volume 1: Gift',\n",
              " 'orange: The Complete Collection 1 (orange: The Complete Collection #1)',\n",
              " 'Online Marketing for Busy Authors: A Step-By-Step Guide',\n",
              " 'Layered: Baking, Building, and Styling Spectacular Cakes']"
            ]
          },
          "metadata": {
            "tags": []
          },
          "execution_count": 1
        }
      ]
    }
  ]
}